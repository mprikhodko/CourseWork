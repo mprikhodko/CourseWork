{
  "cells": [
    {
      "cell_type": "code",
      "execution_count": 1,
      "id": "0b10ae5d",
      "metadata": {
        "id": "0b10ae5d"
      },
      "outputs": [],
      "source": [
        "# !pip -q install tensorflow==2.8 > log\n",
        "# !apt -q install --allow-change-held-packages libcudnn8=8.1.0.77-1+cuda11.2 >> log\n",
        "!pip -q install -U tfds-nightly tensorflow_addons tensorflow >> log"
      ]
    },
    {
      "cell_type": "markdown",
      "source": [
        "Program to optimize paramaters eg period for price bitcoin prediction."
      ],
      "metadata": {
        "id": "Gw5CxM-tOI-K"
      },
      "id": "Gw5CxM-tOI-K"
    },
    {
      "cell_type": "code",
      "source": [
        "from IPython.core.interactiveshell import InteractiveShell as IS; IS.ast_node_interactivity = \"all\"\n",
        "import numpy as np, pandas as pd, time, matplotlib.pyplot as plt, os\n",
        "import tensorflow_addons as tfa, tensorflow as tf, tensorflow.keras as keras, tensorflow_datasets as tfds\n",
        "from keras.models import Sequential\n",
        "from keras.layers import Flatten, Dense, Dropout, MaxPooling2D, Conv2D, GlobalAveragePooling2D\n",
        "from tensorflow.keras.layers import SimpleRNN, Flatten, Dense, RNN, LSTM, TimeDistributed\n",
        "from keras import backend as K\n",
        "from keras.layers import Layer\n",
        "\n",
        "sample=pd.read_csv('tXY.csv', index_col='id');\n",
        "train = sample[0:200000];\n",
        "test= sample[200000:230000];"
      ],
      "metadata": {
        "id": "IL64nrReGcA3",
        "colab": {
          "base_uri": "https://localhost:8080/"
        },
        "outputId": "190a3567-34d9-441b-b409-3a861e7aec23"
      },
      "id": "IL64nrReGcA3",
      "execution_count": 2,
      "outputs": [
        {
          "output_type": "stream",
          "name": "stderr",
          "text": [
            "/usr/local/lib/python3.10/dist-packages/tensorflow_addons/utils/tfa_eol_msg.py:23: UserWarning: \n",
            "\n",
            "TensorFlow Addons (TFA) has ended development and introduction of new features.\n",
            "TFA has entered a minimal maintenance and release mode until a planned end of life in May 2024.\n",
            "Please modify downstream libraries to take dependencies from other repositories in our TensorFlow community (e.g. Keras, Keras-CV, and Keras-NLP). \n",
            "\n",
            "For more information see: https://github.com/tensorflow/addons/issues/2807 \n",
            "\n",
            "  warnings.warn(\n"
          ]
        }
      ]
    },
    {
      "cell_type": "code",
      "source": [],
      "metadata": {
        "id": "tXWjq3-0GanK"
      },
      "id": "tXWjq3-0GanK",
      "execution_count": 2,
      "outputs": []
    },
    {
      "cell_type": "code",
      "execution_count": 3,
      "id": "f54a59e9",
      "metadata": {
        "id": "f54a59e9"
      },
      "outputs": [],
      "source": [
        "tXY1 = train.copy()\n",
        "tXY = train.pct_change().fillna(0)"
      ]
    },
    {
      "cell_type": "code",
      "execution_count": 4,
      "id": "dbbfb4d3",
      "metadata": {
        "id": "dbbfb4d3"
      },
      "outputs": [],
      "source": [
        "def getData(seq_size):\n",
        "    K, (N, p), Nx, Ny = seq_size, tXY.shape, 20000, len(test)   # samples, dataset dim, train set size, forecast set size\n",
        "    LtX, LtY = [], []\n",
        "    for i in range(N-Ny-K, N-Ny):                     # populate K samples with past X series and future Y series\n",
        "      LtX.append(tXY.iloc[(i-Nx):i, :].values)        # X: historical 7Dim observations for Nx steps behind\n",
        "      LtY.append(tXY.loc[i:(i+Ny-1),'Close'].values)  # Y: future closing prices for Ny steps ahead\n",
        "    taX, taY = np.array(LtX), np.array(LtY)           # training arrays past input X and future output Y\n",
        "    #print(f'taX.shape=(K,Nx,p)={taX.shape}; taY=(K,Ny)={taY.shape}')  # convert to 3-tensors\n",
        "    return taX, taY,p,Ny,Nx\n"
      ]
    },
    {
      "cell_type": "code",
      "source": [
        "pip install pyswarms"
      ],
      "metadata": {
        "colab": {
          "base_uri": "https://localhost:8080/"
        },
        "id": "_VvRGXxJHWna",
        "outputId": "1dd74b28-0a1b-4040-d0b0-d2daca59e893"
      },
      "id": "_VvRGXxJHWna",
      "execution_count": 5,
      "outputs": [
        {
          "output_type": "stream",
          "name": "stdout",
          "text": [
            "Collecting pyswarms\n",
            "  Downloading pyswarms-1.3.0-py2.py3-none-any.whl (104 kB)\n",
            "\u001b[?25l     \u001b[90m━━━━━━━━━━━━━━━━━━━━━━━━━━━━━━━━━━━━━━━━\u001b[0m \u001b[32m0.0/104.1 kB\u001b[0m \u001b[31m?\u001b[0m eta \u001b[36m-:--:--\u001b[0m\r\u001b[2K     \u001b[90m━━━━━━━━━━━━━━━━━━━━━━━━━━━━━━━━━━━━━━━━\u001b[0m \u001b[32m104.1/104.1 kB\u001b[0m \u001b[31m3.0 MB/s\u001b[0m eta \u001b[36m0:00:00\u001b[0m\n",
            "\u001b[?25hRequirement already satisfied: scipy in /usr/local/lib/python3.10/dist-packages (from pyswarms) (1.11.4)\n",
            "Requirement already satisfied: numpy in /usr/local/lib/python3.10/dist-packages (from pyswarms) (1.23.5)\n",
            "Requirement already satisfied: matplotlib>=1.3.1 in /usr/local/lib/python3.10/dist-packages (from pyswarms) (3.7.1)\n",
            "Requirement already satisfied: attrs in /usr/local/lib/python3.10/dist-packages (from pyswarms) (23.1.0)\n",
            "Requirement already satisfied: tqdm in /usr/local/lib/python3.10/dist-packages (from pyswarms) (4.66.1)\n",
            "Requirement already satisfied: future in /usr/local/lib/python3.10/dist-packages (from pyswarms) (0.18.3)\n",
            "Requirement already satisfied: pyyaml in /usr/local/lib/python3.10/dist-packages (from pyswarms) (6.0.1)\n",
            "Requirement already satisfied: contourpy>=1.0.1 in /usr/local/lib/python3.10/dist-packages (from matplotlib>=1.3.1->pyswarms) (1.2.0)\n",
            "Requirement already satisfied: cycler>=0.10 in /usr/local/lib/python3.10/dist-packages (from matplotlib>=1.3.1->pyswarms) (0.12.1)\n",
            "Requirement already satisfied: fonttools>=4.22.0 in /usr/local/lib/python3.10/dist-packages (from matplotlib>=1.3.1->pyswarms) (4.46.0)\n",
            "Requirement already satisfied: kiwisolver>=1.0.1 in /usr/local/lib/python3.10/dist-packages (from matplotlib>=1.3.1->pyswarms) (1.4.5)\n",
            "Requirement already satisfied: packaging>=20.0 in /usr/local/lib/python3.10/dist-packages (from matplotlib>=1.3.1->pyswarms) (23.2)\n",
            "Requirement already satisfied: pillow>=6.2.0 in /usr/local/lib/python3.10/dist-packages (from matplotlib>=1.3.1->pyswarms) (9.4.0)\n",
            "Requirement already satisfied: pyparsing>=2.3.1 in /usr/local/lib/python3.10/dist-packages (from matplotlib>=1.3.1->pyswarms) (3.1.1)\n",
            "Requirement already satisfied: python-dateutil>=2.7 in /usr/local/lib/python3.10/dist-packages (from matplotlib>=1.3.1->pyswarms) (2.8.2)\n",
            "Requirement already satisfied: six>=1.5 in /usr/local/lib/python3.10/dist-packages (from python-dateutil>=2.7->matplotlib>=1.3.1->pyswarms) (1.16.0)\n",
            "Installing collected packages: pyswarms\n",
            "Successfully installed pyswarms-1.3.0\n"
          ]
        }
      ]
    },
    {
      "cell_type": "code",
      "execution_count": 6,
      "id": "35b5862c",
      "metadata": {
        "id": "35b5862c"
      },
      "outputs": [],
      "source": [
        "import torch\n",
        "import pyswarms as ps\n",
        "import numpy as np\n",
        "from pyswarms.utils.plotters import plot_cost_history\n",
        "from tensorflow.keras.models import Sequential\n",
        "from tensorflow.keras.layers import LSTM, Dropout, Dense, Conv1D, GRU, Input, BatchNormalization, GlobalAveragePooling1D, GlobalMaxPooling1D, LayerNormalization\n",
        "from tensorflow.keras.models import Model\n",
        "import numpy as np\n",
        "from sklearn.metrics import mean_absolute_percentage_error,mean_squared_error,r2_score,mean_absolute_error\n",
        "# Define the fitness function to be optimized\n",
        "\n",
        "# Define the fitness function to be optimized\n",
        "def fitness_function(seq_size):\n",
        "\n",
        "  taX, taY,p, Ny,Nx=getData(seq_size)\n",
        "\n",
        "  tf.random.set_seed(0)   # always seed your experiments\n",
        "  Init = keras.initializers.GlorotUniform(seed=0) # seed all that you can\n",
        "\n",
        "  input_shape = (None, p)\n",
        "\n",
        "# Create the input layer\n",
        "  input_layer = Input(shape=input_shape, name='input_layer')\n",
        "  tf.random.set_seed(0)   # always seed your experiments\n",
        "  tf.random.set_seed(0)   # always seed your experiments\n",
        "  Init = keras.initializers.GlorotUniform(seed=0) # seed all that you can\n",
        "\n",
        "  input_shape = (None, p)\n",
        "\n",
        "# Create the input layer\n",
        "  input_layer = Input(shape=input_shape, name='input_layer')\n",
        "\n",
        "# Add Conv1D layer, kernel_size of 5 proved to do well, more or less tended to decrease performance\n",
        "  conv_layer = Conv1D(filters=200, kernel_size=5, activation='selu', name='conv_layer', kernel_initializer=Init)(input_layer)\n",
        "\n",
        "# Feed Conv1D results into recurrent layers\n",
        "  lstm_layer1 = LSTM(units=200, return_sequences=True, kernel_initializer=Init, recurrent_initializer=Init, name='LSTM1')(conv_layer)\n",
        "  dropout1 = Dropout(0.2, name='dropout1', seed=42)(lstm_layer1)\n",
        "\n",
        "  lstm_layer2 = LSTM(units=200, return_sequences=False, kernel_initializer=Init, recurrent_initializer=Init, name='LSTM2')(dropout1)\n",
        "  dropout2 = Dropout(0.2, name='dropout2', seed=42)(lstm_layer2)\n",
        "\n",
        "# Add the output layer, tanh to keep the output bounded to represent percentage change\n",
        "  output_layer = Dense(activation='tanh', units=Ny, kernel_initializer=Init, name='output')(dropout2)\n",
        "\n",
        "# Create the model\n",
        "  model = Model(inputs=input_layer, outputs=output_layer, name='RNN_model')\n",
        "\n",
        "  model.summary()\n",
        "\n",
        "# Course adjustment\n",
        "  lrs = keras.optimizers.schedules.ExponentialDecay(initial_learning_rate=.1, decay_steps=10000, decay_rate=0.01)\n",
        "  opt = keras.optimizers.Adam(learning_rate=lrs, amsgrad=True)\n",
        "\n",
        "# Mean absolute error to be robust against major swings\n",
        "  model.compile(loss=\"mean_absolute_error\", optimizer=opt, metrics=['cosine_similarity'])\n",
        "  history = model.fit(taX, taY, epochs=4, batch_size=16)\n",
        "\n",
        "\n",
        "  tX_recent = tXY  # most recent history of the coin as percentage changes\n",
        "  tX_recent2 = tXY1.iloc[-Nx:,:]  # most recent history of the coin in original form\n",
        "  print(f'tX_recent.shape=(Nx,p)={tX_recent.shape}')\n",
        "\n",
        "  fY = model.predict(tX_recent.values[np.newaxis,...]).flatten()  # the model expects a 3-tensor (K=1,Nx,p)\n",
        "# Restore percentages and clip to previously observed ranges\n",
        "  fY2 = pd.DataFrame(fY+1).clip(lower=0.99, upper=1.01)\n",
        "# Replace first array with last known close price to restore actual price\n",
        "  fY2.iloc[0] *= tX_recent2.iloc[-1].Close\n",
        "# Restore price fully with a cumulative product\n",
        "  test['ClosePredict2'] = fY2.cumprod().to_numpy().flatten()\n",
        "  mae = mean_absolute_error(test['Close'] , test['ClosePredict2'] )\n",
        "  return mae\n",
        "\n",
        "\n",
        "\n",
        "def avg(_x):\n",
        "    return (_x[0]+_x[1])/2.\n",
        "\n",
        "def costf_pso(_X):  # PSO minimizes\n",
        "    \"\"\"\n",
        "    _X is the list of particles called by the pyswarms library\n",
        "    (S, M) = _X.shape\n",
        "    S number of particles\n",
        "    M number of dimensions, i.e. number of independent variables, hyperparameters\n",
        "    \"\"\"\n",
        "\n",
        "\n",
        "    S = _X.shape[0]  # number of particles\n",
        "    # each particle cost function is evaluated\n",
        "    costs = np.ones((S,), dtype=float)\n",
        "\n",
        "    for i in range(S):\n",
        "        hp = np.array(_X[i], int)  # hyperparameters are integers\n",
        "        seq_sizes=hp[0]\n",
        "        try:\n",
        "          mae= fitness_function(int(seq_sizes))\n",
        "        except:\n",
        "          mae=100000\n",
        "\n",
        "        if (mae==np.nan): mae=100000\n",
        "        costs[i] = mae\n",
        "\n",
        "    return costs\n"
      ]
    },
    {
      "cell_type": "code",
      "execution_count": 7,
      "id": "e04990ce",
      "metadata": {
        "id": "e04990ce"
      },
      "outputs": [],
      "source": [
        "from pyswarms.single import GeneralOptimizerPSO\n",
        "from pyswarms.backend.topology import Star, Ring, VonNeumann, Random, Pyramid\n",
        "from random import random\n",
        "N_PARTICLES= 7  # number of particles\n",
        "# Define the bounds for seq_size\n",
        "\n",
        "N_HYPERPARAMS= 1  # number of hyperparameters\n",
        "N_SEQ=[30,70]\n",
        "# Swarm parameters\n",
        "# c1:cognitive parameter, c2:social parameter, w:inertia parameter, k:num neighbors, p:L1 or L2\n",
        "PYSWARM_OPTS= {'c1': 0.5, 'c2': 0.5, 'w': 0.7, 'k': 3, 'p': 2}\n",
        "\n",
        "# Constraints are alphabetical\n",
        "Constraints = (np.array([N_SEQ[0], N_SEQ[1]], dtype=int))\n",
        "\n",
        "init_pos = np.array([avg(N_SEQ)])  # middles of the contraint ranges\n",
        "Init_pos= np.array([init_pos+1-2*random() for _ in range(N_PARTICLES)])\n",
        "\n",
        "PSO_ITERS_N= 10  # number of iterations\n",
        "\n",
        "optimizer = GeneralOptimizerPSO(  # GeneralOptimizerPSO\n",
        "    n_particles= N_PARTICLES,\n",
        "    dimensions= N_HYPERPARAMS,\n",
        "    options= PYSWARM_OPTS,\n",
        "    topology= Star(),\n",
        "    bounds= Constraints,\n",
        "    init_pos= Init_pos,\n",
        "    )"
      ]
    },
    {
      "cell_type": "code",
      "execution_count": null,
      "id": "45432856",
      "metadata": {
        "id": "45432856",
        "colab": {
          "base_uri": "https://localhost:8080/"
        },
        "outputId": "9d9ff38a-bbf9-42b5-87c9-38cf60fed664"
      },
      "outputs": [
        {
          "output_type": "stream",
          "name": "stderr",
          "text": [
            "2023-12-11 21:42:13,401 - pyswarms.single.general_optimizer - INFO - Optimize for 10 iters with {'c1': 0.5, 'c2': 0.5, 'w': 0.7, 'k': 3, 'p': 2}\n",
            "pyswarms.single.general_optimizer:   0%|          |0/10"
          ]
        },
        {
          "output_type": "stream",
          "name": "stdout",
          "text": [
            "Model: \"RNN_model\"\n",
            "_________________________________________________________________\n",
            " Layer (type)                Output Shape              Param #   \n",
            "=================================================================\n",
            " input_layer (InputLayer)    [(None, None, 7)]         0         \n",
            "                                                                 \n",
            " conv_layer (Conv1D)         (None, None, 200)         7200      \n",
            "                                                                 \n",
            " LSTM1 (LSTM)                (None, None, 200)         320800    \n",
            "                                                                 \n",
            " dropout1 (Dropout)          (None, None, 200)         0         \n",
            "                                                                 \n",
            " LSTM2 (LSTM)                (None, 200)               320800    \n",
            "                                                                 \n",
            " dropout2 (Dropout)          (None, 200)               0         \n",
            "                                                                 \n",
            " output (Dense)              (None, 30000)             6030000   \n",
            "                                                                 \n",
            "=================================================================\n",
            "Total params: 6678800 (25.48 MB)\n",
            "Trainable params: 6678800 (25.48 MB)\n",
            "Non-trainable params: 0 (0.00 Byte)\n",
            "_________________________________________________________________\n",
            "Epoch 1/4\n",
            "4/4 [==============================] - 687s 163s/step - loss: 0.3345 - cosine_similarity: -0.0049\n",
            "Epoch 2/4\n",
            "4/4 [==============================] - 676s 165s/step - loss: 0.4908 - cosine_similarity: -0.0033\n",
            "Epoch 3/4\n",
            "4/4 [==============================] - 653s 162s/step - loss: 0.3507 - cosine_similarity: -0.0032\n",
            "Epoch 4/4\n",
            "4/4 [==============================] - 699s 171s/step - loss: 0.1965 - cosine_similarity: 3.7356e-05\n",
            "tX_recent.shape=(Nx,p)=(200000, 7)\n",
            "1/1 [==============================] - 82s 82s/step\n"
          ]
        },
        {
          "output_type": "stream",
          "name": "stderr",
          "text": [
            "<ipython-input-6-ecc1cea9158c>:70: SettingWithCopyWarning: \n",
            "A value is trying to be set on a copy of a slice from a DataFrame.\n",
            "Try using .loc[row_indexer,col_indexer] = value instead\n",
            "\n",
            "See the caveats in the documentation: https://pandas.pydata.org/pandas-docs/stable/user_guide/indexing.html#returning-a-view-versus-a-copy\n",
            "  test['ClosePredict2'] = fY2.cumprod().to_numpy().flatten()\n"
          ]
        },
        {
          "output_type": "stream",
          "name": "stdout",
          "text": [
            "Model: \"RNN_model\"\n",
            "_________________________________________________________________\n",
            " Layer (type)                Output Shape              Param #   \n",
            "=================================================================\n",
            " input_layer (InputLayer)    [(None, None, 7)]         0         \n",
            "                                                                 \n",
            " conv_layer (Conv1D)         (None, None, 200)         7200      \n",
            "                                                                 \n",
            " LSTM1 (LSTM)                (None, None, 200)         320800    \n",
            "                                                                 \n",
            " dropout1 (Dropout)          (None, None, 200)         0         \n",
            "                                                                 \n",
            " LSTM2 (LSTM)                (None, 200)               320800    \n",
            "                                                                 \n",
            " dropout2 (Dropout)          (None, 200)               0         \n",
            "                                                                 \n",
            " output (Dense)              (None, 30000)             6030000   \n",
            "                                                                 \n",
            "=================================================================\n",
            "Total params: 6678800 (25.48 MB)\n",
            "Trainable params: 6678800 (25.48 MB)\n",
            "Non-trainable params: 0 (0.00 Byte)\n",
            "_________________________________________________________________\n",
            "Epoch 1/4\n",
            "4/4 [==============================] - 669s 163s/step - loss: 0.3199 - cosine_similarity: -0.0020\n",
            "Epoch 2/4\n",
            "4/4 [==============================] - 650s 158s/step - loss: 0.3177 - cosine_similarity: 8.1709e-04\n",
            "Epoch 3/4\n",
            "4/4 [==============================] - 660s 162s/step - loss: 0.2811 - cosine_similarity: -0.0014\n",
            "Epoch 4/4\n",
            "4/4 [==============================] - 645s 158s/step - loss: 0.2219 - cosine_similarity: -3.8901e-04\n",
            "tX_recent.shape=(Nx,p)=(200000, 7)\n",
            "1/1 [==============================] - 79s 79s/step\n"
          ]
        },
        {
          "output_type": "stream",
          "name": "stderr",
          "text": [
            "<ipython-input-6-ecc1cea9158c>:70: SettingWithCopyWarning: \n",
            "A value is trying to be set on a copy of a slice from a DataFrame.\n",
            "Try using .loc[row_indexer,col_indexer] = value instead\n",
            "\n",
            "See the caveats in the documentation: https://pandas.pydata.org/pandas-docs/stable/user_guide/indexing.html#returning-a-view-versus-a-copy\n",
            "  test['ClosePredict2'] = fY2.cumprod().to_numpy().flatten()\n"
          ]
        },
        {
          "output_type": "stream",
          "name": "stdout",
          "text": [
            "Model: \"RNN_model\"\n",
            "_________________________________________________________________\n",
            " Layer (type)                Output Shape              Param #   \n",
            "=================================================================\n",
            " input_layer (InputLayer)    [(None, None, 7)]         0         \n",
            "                                                                 \n",
            " conv_layer (Conv1D)         (None, None, 200)         7200      \n",
            "                                                                 \n",
            " LSTM1 (LSTM)                (None, None, 200)         320800    \n",
            "                                                                 \n",
            " dropout1 (Dropout)          (None, None, 200)         0         \n",
            "                                                                 \n",
            " LSTM2 (LSTM)                (None, 200)               320800    \n",
            "                                                                 \n",
            " dropout2 (Dropout)          (None, 200)               0         \n",
            "                                                                 \n",
            " output (Dense)              (None, 30000)             6030000   \n",
            "                                                                 \n",
            "=================================================================\n",
            "Total params: 6678800 (25.48 MB)\n",
            "Trainable params: 6678800 (25.48 MB)\n",
            "Non-trainable params: 0 (0.00 Byte)\n",
            "_________________________________________________________________\n",
            "Epoch 1/4\n",
            "4/4 [==============================] - 662s 159s/step - loss: 0.3345 - cosine_similarity: -0.0049\n",
            "Epoch 2/4\n",
            "3/4 [=====================>........] - ETA: 2:51 - loss: 0.4915 - cosine_similarity: -0.0043"
          ]
        }
      ],
      "source": [
        "%%time\n",
        "pso_log = []  # collect Pd Pf\n",
        "\n",
        "# run the optimizer\n",
        "\n",
        "pso_cost, pso_pos = optimizer.optimize(costf_pso, iters=PSO_ITERS_N)\n",
        "# PSO best solution\n",
        "print(f'cost= {pso_cost:.3f}')\n",
        "pso_op_params = [int(pso_pos[_]) for _ in range(N_HYPERPARAMS)]\n",
        "print(f'OP params= {pso_op_params}')"
      ]
    },
    {
      "cell_type": "code",
      "source": [
        "\n",
        "pso_op_params = [int(pso_pos[_]) for _ in range(N_HYPERPARAMS)]\n",
        "print(f'OP params= {pso_op_params}')"
      ],
      "metadata": {
        "id": "BuIP0LZu5Vlr"
      },
      "id": "BuIP0LZu5Vlr",
      "execution_count": null,
      "outputs": []
    },
    {
      "cell_type": "markdown",
      "source": [],
      "metadata": {
        "id": "_o0hrm0VOHaM"
      },
      "id": "_o0hrm0VOHaM"
    }
  ],
  "metadata": {
    "kernelspec": {
      "display_name": "Python 3",
      "name": "python3"
    },
    "language_info": {
      "codemirror_mode": {
        "name": "ipython",
        "version": 3
      },
      "file_extension": ".py",
      "mimetype": "text/x-python",
      "name": "python",
      "nbconvert_exporter": "python",
      "pygments_lexer": "ipython3",
      "version": "3.11.5"
    },
    "colab": {
      "provenance": [],
      "gpuType": "V100"
    },
    "accelerator": "GPU"
  },
  "nbformat": 4,
  "nbformat_minor": 5
}