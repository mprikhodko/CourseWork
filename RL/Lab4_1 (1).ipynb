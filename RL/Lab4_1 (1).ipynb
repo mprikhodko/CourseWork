{
 "cells": [
  {
   "cell_type": "markdown",
   "metadata": {},
   "source": [
    "<hr/>\n",
    "\n",
    "# Foundations of Reinforcement Learning\n",
    "\n",
    "<hr/>"
   ]
  },
  {
   "cell_type": "markdown",
   "metadata": {},
   "source": [
    "<h1><font color=\"darkblue\">Lab 4: Monte Carlo Method  </font></h1>\n",
    "\n",
    "\n",
    "\n",
    "\n",
    "\n",
    "##  Content\n",
    "1. Monte Carlo Method\n"
   ]
  },
  {
   "cell_type": "markdown",
   "metadata": {},
   "source": [
    "Import Gym and other necessary libraries"
   ]
  },
  {
   "cell_type": "code",
   "execution_count": 1,
   "metadata": {},
   "outputs": [
    {
     "name": "stdout",
     "output_type": "stream",
     "text": [
      "Requirement already satisfied: gym in c:\\users\\rprikhodko\\anaconda4\\lib\\site-packages (0.26.2)\n",
      "Requirement already satisfied: importlib-metadata>=4.8.0 in c:\\users\\rprikhodko\\anaconda4\\lib\\site-packages (from gym) (4.11.3)\n",
      "Requirement already satisfied: gym-notices>=0.0.4 in c:\\users\\rprikhodko\\anaconda4\\lib\\site-packages (from gym) (0.0.8)\n",
      "Requirement already satisfied: cloudpickle>=1.2.0 in c:\\users\\rprikhodko\\anaconda4\\lib\\site-packages (from gym) (2.0.0)\n",
      "Requirement already satisfied: numpy>=1.18.0 in c:\\users\\rprikhodko\\anaconda4\\lib\\site-packages (from gym) (1.25.1)\n",
      "Requirement already satisfied: zipp>=0.5 in c:\\users\\rprikhodko\\anaconda4\\lib\\site-packages (from importlib-metadata>=4.8.0->gym) (3.7.0)\n",
      "Note: you may need to restart the kernel to use updated packages.\n"
     ]
    }
   ],
   "source": [
    "pip install gym"
   ]
  },
  {
   "cell_type": "code",
   "execution_count": 2,
   "metadata": {},
   "outputs": [
    {
     "name": "stdout",
     "output_type": "stream",
     "text": [
      "%pylab is deprecated, use %matplotlib inline and import the required libraries.\n",
      "Populating the interactive namespace from numpy and matplotlib\n"
     ]
    }
   ],
   "source": [
    "%pylab inline\n",
    "import numpy as np\n",
    "import matplotlib.pyplot as plt\n",
    "import gym\n",
    "from IPython import display\n",
    "import random"
   ]
  },
  {
   "cell_type": "markdown",
   "metadata": {},
   "source": [
    "## 1. Monte Carlo Method  (CartPole-v1 environment)"
   ]
  },
  {
   "cell_type": "markdown",
   "metadata": {},
   "source": [
    "### 1.1 CartPole Introduction\n",
    "\n",
    "We now apply Monte Carlo Method for CartPole problem. \n",
    "\n",
    "\n",
    "1. A pole is attached by an un-actuated joint to a cart, which moves along a frictionless track. \n",
    "\n",
    "0. The system is controlled by applying a force of +1 or -1 to the cart. \n",
    "\n",
    "0. The pendulum starts up, and the goal is to prevent it from falling over. \n",
    "\n",
    "0. A reward of +1 is provided for every timestep that the pole remains up. \n",
    "\n",
    "0. The episode ends when the pole is more than 15 degrees from vertical, or the cart moves more than 2.4 units from the center.\n",
    "\n",
    "0. For more info (See [SOURCE ON GITHUB](https://github.com/openai/gym/blob/master/gym/envs/classic_control/cartpole.py)).\n",
    "\n",
    "The following examples show the basic usage of this testing environment: \n",
    "\n"
   ]
  },
  {
   "cell_type": "markdown",
   "metadata": {},
   "source": [
    "### 1.1.1 Episode initialization and Initial Value"
   ]
  },
  {
   "cell_type": "code",
   "execution_count": 3,
   "metadata": {},
   "outputs": [
    {
     "name": "stdout",
     "output_type": "stream",
     "text": [
      "Inital observation is (array([ 0.01181055, -0.01923591, -0.01917216,  0.02427869], dtype=float32), {})\n",
      "\n",
      "This means the cart current position is 0.011810552328824997 with velocity -0.019235914573073387,\n",
      "and the pole current angular position is -0.01917216368019581 with angular velocity 0.024278689175844193,\n"
     ]
    }
   ],
   "source": [
    "env = gym.make('CartPole-v1')\n",
    "observation = env.reset() ##Initial an episode\n",
    "\n",
    "print(\"Inital observation is {}\".format(observation))\n",
    "\n",
    "print(\"\\nThis means the cart current position is {}\".format(observation[0][0]), end = '')\n",
    "print(\" with velocity {},\".format(observation[0][1]))\n",
    "\n",
    "print(\"and the pole current angular position is {}\".format(observation[0][2]), end = '')\n",
    "print(\" with angular velocity {},\".format(observation[0][3]))\n"
   ]
  },
  {
   "cell_type": "code",
   "execution_count": null,
   "metadata": {},
   "outputs": [],
   "source": []
  },
  {
   "cell_type": "markdown",
   "metadata": {},
   "source": [
    "### 1.1.2 Take actions\n",
    "\n",
    "\n",
    "Use env.step(action) to take an action\n",
    "\n",
    "action is an integer from 0 to 1\n",
    "\n",
    "0: \"Left\"; 1: \"Right\""
   ]
  },
  {
   "cell_type": "code",
   "execution_count": 4,
   "metadata": {},
   "outputs": [
    {
     "name": "stdout",
     "output_type": "stream",
     "text": [
      "Current observation is (array([ 0.01181055, -0.01923591, -0.01917216,  0.02427869], dtype=float32), {})\n",
      "\n",
      "New observation is [ 0.01142583 -0.21407774 -0.01868659  0.31085145]\n",
      "\n",
      " Reward is 1.0\n",
      "Step reward is 1.0\n",
      "Did episode just ends? -False\n"
     ]
    },
    {
     "name": "stderr",
     "output_type": "stream",
     "text": [
      "C:\\Users\\rprikhodko\\Anaconda4\\lib\\site-packages\\gym\\utils\\passive_env_checker.py:233: DeprecationWarning: `np.bool8` is a deprecated alias for `np.bool_`.  (Deprecated NumPy 1.24)\n",
      "  if not isinstance(terminated, (bool, np.bool8)):\n"
     ]
    }
   ],
   "source": [
    "print(\"Current observation is {}\".format(observation))\n",
    "\n",
    "action = 0 #go left\n",
    "observation, reward, done, info,info1 = env.step(action) # simulate one step\n",
    "\n",
    "print(\"\\nNew observation is {}\".format(observation))\n",
    "print(\"\\n Reward is {}\".format(reward))\n",
    "print(\"Step reward is {}\".format(reward))\n",
    "print(\"Did episode just ends? -{}\".format(done)) # episode ends when 3.1(6) happens\n",
    "\n"
   ]
  },
  {
   "cell_type": "markdown",
   "metadata": {},
   "source": [
    "### 1.1.3 Simulate multiple episodes\n",
    "\n",
    "(You may uncomment those lines to see an animation. However, it will not work for JupyterHub since the animation requires GL instead of webGL. If you have Jupyter notebook localy on your computer, this version of code will work through a virtual frame.)"
   ]
  },
  {
   "cell_type": "code",
   "execution_count": 5,
   "metadata": {},
   "outputs": [
    {
     "name": "stdout",
     "output_type": "stream",
     "text": [
      "Average reward per episode is 24.390243902439025\n"
     ]
    }
   ],
   "source": [
    "env = gym.make('CartPole-v1')\n",
    "observation = env.reset()\n",
    "total_reward = 0\n",
    "ep_num = 0\n",
    "\n",
    "for _ in range(1000):\n",
    " \n",
    "    action = env.action_space.sample()     # this takes random actions\n",
    "    observation, reward, done, info,info1 = env.step(action) \n",
    "       \n",
    "    total_reward += reward\n",
    "    \n",
    "\n",
    "\n",
    "    if done:                               # episode just ends\n",
    "        observation = env.reset()          # reset episode\n",
    "        ep_num += 1\n",
    "\n",
    "print(\"Average reward per episode is {}\".format(total_reward/ep_num))\n",
    "env.close()\n"
   ]
  },
  {
   "cell_type": "markdown",
   "metadata": {},
   "source": [
    "### 1.1.4 States simplification \n",
    "\n",
    "For convenience, we consider only cart position and pole angular position, (i.e. state dimension = 2).\n",
    "\n",
    "Note that the observed cart position $P \\in [-4.8, 4.8]$ and pole angular position $\\theta \\in [-0.418, 0.418]$ for all times. Then, we could evenly devide those two intervals to from a finite number of states."
   ]
  },
  {
   "cell_type": "code",
   "execution_count": 6,
   "metadata": {},
   "outputs": [
    {
     "name": "stdout",
     "output_type": "stream",
     "text": [
      "\n",
      "The cart current position is -0.013396816328167915and the pole current angular position is -0.047788068652153015\n",
      "which projected to state [49.0, 44.0]\n"
     ]
    }
   ],
   "source": [
    "def find_state_idx(ob,ls0,ls1):\n",
    "    pos_diff = ob[0] +4.8\n",
    "    a_pos_diff = ob[2] + 0.418\n",
    "    \n",
    "    step_size_1 = 4.8*2/(ls0-1)\n",
    "    step_size_2 = 0.418*2/(ls1-1)\n",
    "    \n",
    "    \n",
    "    d_1 = np.round(pos_diff/step_size_1)\n",
    "    d_3 = np.round(a_pos_diff/step_size_2)\n",
    "     \n",
    "    return [d_1,d_3]\n",
    "\n",
    "\n",
    "ls_cart = 100 #devide the position of cart into 100 states\n",
    "ls_pole = 100 #devide the angular position of pole into 100 states\n",
    "\n",
    "# Threre are 100 * 100 = 10000 different states in total\n",
    "\n",
    "observation = env.reset()\n",
    "state_idx = find_state_idx(observation[0],ls_cart,ls_pole)\n",
    "\n",
    "print(\"\\nThe cart current position is {}\".format(observation[0][0]), end = '')\n",
    "print(\"and the pole current angular position is {}\".format(observation[0][2]))\n",
    "\n",
    "print(\"which projected to state {}\".format(state_idx))"
   ]
  },
  {
   "cell_type": "markdown",
   "metadata": {},
   "source": [
    "### 1.2 On-policy first-visit MC control\n",
    "1. Implement \"On-policy first-visit MC control\" algorithum in [Ch 5.4 Sutton] to choose optimal actions\n",
    "2. Simulate this algorithum for 30000 episodes.\n",
    "3. Devide the previous 30000 episodes into 15 sets. Plot average rewards for each sets. (i.e. plot average rewards for the first 2000 episodes, the second 2000 episodes, ..., and the 15th 2000 episodes.) \n",
    "4. Plot the heatmap for Q for each action\n"
   ]
  },
  {
   "cell_type": "code",
   "execution_count": 15,
   "metadata": {},
   "outputs": [],
   "source": [
    "#import numpy as np\n",
    "import gym\n",
    "import matplotlib.pyplot as plt\n",
    "\n",
    "import gym\n",
    "import numpy as np\n",
    "\n",
    "# Define the environment\n",
    "env = gym.make('CartPole-v1')\n",
    "ls_cart = 100 #devide the position of cart into 100 states\n",
    "ls_pole = 100 #devide the angular position of pole into 100 states\n",
    "\n",
    "# Initialize Q-table and other variables\n",
    "Q = np.zeros((ls_cart, ls_pole, env.action_space.n))  # Use the appropriate state and action dimensions\n",
    "N = np.zeros((ls_cart, ls_pole, env.action_space.n))\n",
    "R = np.zeros((ls_cart, ls_pole, env.action_space.n))\n",
    "PI= np.ones((ls_cart, ls_pole, env.action_space.n))\n",
    "epsilon =0.1 # Adjust the epsilon value according to your exploration-exploitation trade-off\n",
    "\n",
    "set_num = 15\n",
    "s = 0\n",
    "ep_num = 0\n",
    "avg_rewards = []  # Track average rewards per set\n",
    "discount_factor=1\n",
    "\n",
    "# Define the get_action function\n",
    "def get_action(current_state, Q, epsilon):\n",
    "    if np.random.rand() < epsilon:\n",
    "        # Randomly select an action\n",
    "        action = env.action_space.sample() \n",
    "        return action\n",
    "    else:\n",
    "        # Choose the action with the highest Q-value for the current state\n",
    "        return np.argmax(Q[int(current_state[0]), int(current_state[1])])\n",
    "\n",
    "\n",
    "\n",
    "# Define the update_Q function\n",
    "def update_Q(Q, obs, acts, rewards):\n",
    "    G = 0\n",
    "   \n",
    "    for t in reversed(range(len(obs))):\n",
    "        state = obs[t]\n",
    "        action = acts[t]\n",
    "        reward = rewards[t]\n",
    "        G = reward + discount_factor * G\n",
    "        \n",
    "        if (state, action) not in zip(obs[:t], acts[:t]):\n",
    "            # First visit to (state, action) in this episode\n",
    "            state = (int(state[0]), int(state[1]))  # Convert state to integers\n",
    "            N[state[0], state[1], action] += 1\n",
    "            alpha = 1 / N[state[0], state[1], action]\n",
    "            R[state[0], state[1], action]+=G\n",
    "            #Q[state[0], state[1], action] +=  alpha*(np.mean(Returns))\n",
    "            Q[state[0], state[1], action]  += alpha * (G - Q[state[0], state[1], action])\n",
    "            PI[state[0], state[1]] = epsilon / env.action_space.n\n",
    "            \n",
    "            a_ = np.argmax( Q[state[0], state[1], action] )\n",
    "            PI[state[0], state[1], a_] =  1 - epsilon + epsilon / env.action_space.n\n",
    "    \n",
    "    return Q,PI\n",
    "\n",
    "\n",
    "\n",
    "\n",
    "\n",
    "\n",
    "while s < set_num:\n",
    "     # this takes random actions\n",
    "    observation = env.reset()[0]\n",
    "        \n",
    "    obs, acts, rewards = [], [], []\n",
    "    total_reward = 0  # Track total reward for the set\n",
    "    while True:\n",
    "        \n",
    "        current_state = find_state_idx(observation, ls_cart, ls_pole)\n",
    "        action = get_action(current_state, Q, epsilon)\n",
    "        obs.append(current_state)\n",
    "        acts.append(action)\n",
    "       \n",
    "        observation, reward, done, info,_ = env.step(action)\n",
    "      \n",
    "        rewards.append(reward)\n",
    "        total_reward += reward\n",
    "        \n",
    "        if done:\n",
    "            Q ,PI = update_Q(Q, obs, acts, rewards)\n",
    "            break\n",
    "    \n",
    "        current_state = find_state_idx(observation, ls_cart, ls_pole)\n",
    "   \n",
    "    ep_num += 1\n",
    "\n",
    "    if ep_num % 2000 == 0:\n",
    "        s += 1\n",
    "        \n",
    "        avg_rewards.append(total_reward)\n",
    "    if s >= set_num:\n",
    "        break  # Exit the loop if the desired sets have been completed\n",
    "# Close the environment\n",
    "env.close()"
   ]
  },
  {
   "cell_type": "code",
   "execution_count": 16,
   "metadata": {},
   "outputs": [
    {
     "data": {
      "image/png": "[encoded data removed]",
      "text/plain": [
       "<Figure size 432x288 with 1 Axes>"
      ]
     },
     "metadata": {
      "needs_background": "light"
     },
     "output_type": "display_data"
    }
   ],
   "source": [
    "# Plot the average rewards for each set of episodes\n",
    "# Plot average rewards\n",
    "episode_sets = range(15)\n",
    "plt.plot(episode_sets, avg_rewards)\n",
    "plt.xlabel(\"Episodes\")\n",
    "plt.ylabel(\"Average Rewards\")\n",
    "plt.title(\"Average Rewards per Set of Episodes\")\n",
    "plt.show()"
   ]
  },
  {
   "cell_type": "code",
   "execution_count": 17,
   "metadata": {},
   "outputs": [
    {
     "data": {
      "image/png": "[encoded data removed]",
      "text/plain": [
       "<Figure size 432x288 with 1 Axes>"
      ]
     },
     "metadata": {
      "needs_background": "light"
     },
     "output_type": "display_data"
    }
   ],
   "source": [
    "#### Plot Q-values as a heatmap\n",
    "Q_heatmap = np.max(Q, axis=-1)\n",
    "plt.imshow(Q_heatmap, cmap='hot', interpolation='nearest')\n",
    "plt.title(\"Q-values Heatmap\")\n",
    "plt.show()"
   ]
  },
  {
   "cell_type": "code",
   "execution_count": 18,
   "metadata": {},
   "outputs": [
    {
     "data": {
      "image/png": "[encoded data removed]",
      "text/plain": [
       "<Figure size 720x576 with 2 Axes>"
      ]
     },
     "metadata": {
      "needs_background": "light"
     },
     "output_type": "display_data"
    }
   ],
   "source": [
    "import seaborn as sns\n",
    "\n",
    "# Create a heatmap for the Q-values matrix\n",
    "plt.figure(figsize=(10, 8))\n",
    "sns.heatmap(Q.mean(axis=-1), cmap=\"YlGnBu\")\n",
    "plt.title(\"Q-Values Heatmap\")\n",
    "plt.xlabel(\"Pole Angular Position\")\n",
    "plt.ylabel(\"Cart Position\")\n",
    "plt.show()\n"
   ]
  },
  {
   "cell_type": "code",
   "execution_count": null,
   "metadata": {},
   "outputs": [],
   "source": []
  },
  {
   "cell_type": "code",
   "execution_count": null,
   "metadata": {},
   "outputs": [],
   "source": []
  }
 ],
 "metadata": {
  "kernelspec": {
   "display_name": "Python 3 (ipykernel)",
   "language": "python",
   "name": "python3"
  },
  "language_info": {
   "codemirror_mode": {
    "name": "ipython",
    "version": 3
   },
   "file_extension": ".py",
   "mimetype": "text/x-python",
   "name": "python",
   "nbconvert_exporter": "python",
   "pygments_lexer": "ipython3",
   "version": "3.9.12"
  }
 },
 "nbformat": 4,
 "nbformat_minor": 4
}
