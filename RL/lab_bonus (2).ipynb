{
 "cells": [
  {
   "cell_type": "markdown",
   "metadata": {},
   "source": [
    "<hr/>\n",
    "\n",
    "# Foundations of Reinforcement Learning\n",
    "\n",
    "<hr/>"
   ]
  },
  {
   "cell_type": "markdown",
   "metadata": {},
   "source": [
    "<h1><font color=\"darkblue\">Lab bonus: More on multi-armed Bandit </font></h1>\n",
    "\n",
    "\n",
    "\n",
    "<img src=\"multiarmedbandit.jpg\" width=\"300\" height=\"300\" align=\"left\"/>\n",
    "\n",
    "\n",
    "<br><br><br><br><br><br><br><br><br><br><br><br>\n",
    "\n",
    "\n",
    "[image source](https://www.microsoft.com/en-us/research/?from=http%3A%2F%2Fresearch.microsoft.com%2Fen-us%2Fprojects%2Fbandits%2F)\n",
    "\n",
    "\n",
    "\n",
    "##  Content\n",
    "1. Problem statement\n",
    "0. Gradient Bandit Algorithm"
   ]
  },
  {
   "cell_type": "code",
   "execution_count": null,
   "metadata": {},
   "outputs": [],
   "source": [
    "# plot your results"
   ]
  },
  {
   "cell_type": "code",
   "execution_count": null,
   "metadata": {},
   "outputs": [],
   "source": [
    "%pylab inline\n",
    "import numpy as np\n",
    "import matplotlib.pyplot as plt\n",
    "import matplotlib.ticker as mtick"
   ]
  },
  {
   "cell_type": "markdown",
   "metadata": {},
   "source": [
    "## Problem Statement [P 21, Ch 2.3, Sutton]\n",
    "\n",
    "#### Define a 10-armed bandit problem in which the action values $q_*(a)$, $a = 1,...,10$, are samples from a standard norm distribution, i.e. Gaussian distribution with mean $= 0$ and variance $ = 1$. Then, when selected $A_t$ at time step $t$, the actual reward, $R_t$ is selected from a Gaussian distribution with mean = $q_*(A_t)$ and variance = 1."
   ]
  },
  {
   "cell_type": "code",
   "execution_count": null,
   "metadata": {},
   "outputs": [],
   "source": [
    "# write any global function here if needed"
   ]
  },
  {
   "cell_type": "markdown",
   "metadata": {},
   "source": [
    "## Problem 1.  Gradient Bandit Algorithm\n",
    "\n",
    "1. Change with mean of $q_*(a)$ to 4. And implement a function/functions that run this game 2000 times with Gradient Bandit algorithm. Your function/functions should include $\\alpha$ and an indicator of whether you have a baseline. Then output: (7 pts)\n",
    "<br>   - percentage of optimal action at each time step\n",
    "2. Call your function/functions to generate the percentage of optimal action at each time step with: (1 pts)\n",
    "<br>   -  Gradient Bandit algorithm, $\\alpha = 0.1$ with baseline\n",
    "<br>   -  Gradient Bandit algorithm, $\\alpha = 0.1$ without baseline (i.e. $\\bar{R_t}\t\\equiv 0$)\n",
    "3. Plot the percentage of optimal action of those two cases, then compare with [P 29 Fig 2.5 Sutton]. (2 pts)"
   ]
  },
  {
   "cell_type": "markdown",
   "metadata": {},
   "source": [
    "### 1."
   ]
  },
  {
   "cell_type": "code",
   "execution_count": null,
   "metadata": {},
   "outputs": [],
   "source": [
    "def multi_armed_Gradient(arm_num, time_step_num, game_num, alpha, flag):\n",
    "\n",
    "\n",
    "    #implement Gradient-Bandit algorithm\n",
    "    \n",
    "    # return: \n",
    "    ## ave_reward: \n",
    "    ##    size: (time_step_num, )\n",
    "    ##    value: average reward over 2000 runs at each time step\n",
    "    ## ave_opt_action: \n",
    "    ##    size: (time_step_num, )\n",
    "    ##    value: (0-100) percentage of optimal action taken over 2000 runs at each time step\n",
    "    \n",
    "    return ave_reward, ave_opt_action\n",
    "    "
   ]
  },
  {
   "cell_type": "markdown",
   "metadata": {},
   "source": [
    "### 2."
   ]
  },
  {
   "cell_type": "code",
   "execution_count": null,
   "metadata": {},
   "outputs": [],
   "source": [
    "# call your function\n"
   ]
  },
  {
   "cell_type": "markdown",
   "metadata": {},
   "source": [
    "### 3."
   ]
  },
  {
   "cell_type": "code",
   "execution_count": null,
   "metadata": {
    "scrolled": false
   },
   "outputs": [],
   "source": [
    "# plot your results"
   ]
  }
 ],
 "metadata": {
  "kernelspec": {
   "display_name": "Python 3",
   "language": "python",
   "name": "python3"
  },
  "language_info": {
   "codemirror_mode": {
    "name": "ipython",
    "version": 3
   },
   "file_extension": ".py",
   "mimetype": "text/x-python",
   "name": "python",
   "nbconvert_exporter": "python",
   "pygments_lexer": "ipython3",
   "version": "3.8.5"
  }
 },
 "nbformat": 4,
 "nbformat_minor": 4
}
