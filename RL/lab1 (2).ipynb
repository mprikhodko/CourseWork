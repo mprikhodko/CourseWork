{
 "cells": [
  {
   "cell_type": "markdown",
   "metadata": {},
   "source": [
    "<hr/>\n",
    "\n",
    "# Foundations of Reinforcement Learning\n",
    "\n",
    "<hr/>"
   ]
  },
  {
   "cell_type": "markdown",
   "metadata": {},
   "source": [
    "<h1><font color=\"darkblue\">Lab 1: Intro to Python and two problems on probability</font></h1>\n",
    "\n",
    "\n",
    "\n",
    "##  Content\n",
    "1. Jupyter and Jupyterhub\n",
    "2. Python basic\n",
    "3. Library installation\n",
    "4. Lab Problems"
   ]
  },
  {
   "cell_type": "markdown",
   "metadata": {},
   "source": [
    "### 1. Jupyter and Jupyterhub\n",
    "#### 1.1 Jupyter\n",
    "\n",
    "Jupyter is an open-source web application that allows you to create and share documents that contain live code, equations, visualizations and narrative text, (see https://jupyter.org/). To naviagate through Jupyter devalopment environment, see [Notebook Basic](https://github.com/ipython/ipython-in-depth/blob/7e5ce96cc9251083979efdfc393425f1229a4a68/examples/Notebook/Notebook%20Basics.ipynb).\n",
    "\n",
    "#### 1.2 Jupyterhub\n",
    "You are currently viewing a Jupyter Notebook file running remotely on Jupyterhub of this class. Jupyterhub basically has the same features as Jupyter but saving and executing your code in the cloud. Therefore, you could avoid python & jupyter installation tasks and access relatively high computational power.\n",
    "\n",
    "#### 1.3 [Optional] Install Jupyter on your computer\n",
    "If you prefer to have Jupyter on your computer and run codes offline (e.g. you don't have a stable internet connection), try<br>\n",
    "[Install Python](https://www.python.org/downloads/) <br>\n",
    "[Install Anaconda](https://www.anaconda.com/distribution/#download-section)"
   ]
  },
  {
   "cell_type": "markdown",
   "metadata": {},
   "source": [
    "### 2. Python basic\n",
    "Python is the programming language we use for this course. If Python seems unfamiliar to you, [Python tutorial](https://cs231n.github.io/python-numpy-tutorial/) may give you a quick start."
   ]
  },
  {
   "cell_type": "markdown",
   "metadata": {},
   "source": [
    "### 3 Library Installation\n",
    "You can add libraries to the Jupyter/Jupyterhub devalopment environment by the following steps:"
   ]
  },
  {
   "cell_type": "markdown",
   "metadata": {},
   "source": [
    "#### Step 1. Call pip to install\n",
    "Run the following code"
   ]
  },
  {
   "cell_type": "code",
   "execution_count": 3,
   "metadata": {},
   "outputs": [],
   "source": [
    "!pip install numpy\n",
    "!pip install matplotlib"
   ]
  },
  {
   "cell_type": "markdown",
   "metadata": {},
   "source": [
    "#### Step 2. Add system path (needed only for the first time you add library)\n",
    "Run the following code"
   ]
  },
  {
   "cell_type": "code",
   "execution_count": 4,
   "metadata": {},
   "outputs": [],
   "source": [
    "import sys\n",
    "sys.path.append('FILL IN the installed library's file directory')\n",
    "# If you don't know the file directory:\n",
    "#   Run step 1 again you might see the file directory\n",
    "#   For the course Jupyterhub it should be /home/**FILL IN YOUR USER NAME**/.local/lib/python3.6/site-packages"
   ]
  },
  {
   "cell_type": "markdown",
   "metadata": {},
   "source": [
    "### 4. Lab Problems"
   ]
  },
  {
   "cell_type": "code",
   "execution_count": 1,
   "metadata": {},
   "outputs": [],
   "source": [
    "%matplotlib inline \n",
    "\n",
    "import numpy as np \n",
    "import matplotlib.pyplot as plt  \n",
    "# import useful libraries"
   ]
  },
  {
   "cell_type": "markdown",
   "metadata": {},
   "source": [
    "### Problem 1\n",
    "\n",
    "Given the following mixture of two Gaussians,\n",
    "\n",
    "$\\displaystyle \\qquad f(x) = \\frac{4}{5\\sqrt{2\\pi}} \\exp\\left(-\\frac{x^2}{2}\\right) + \\frac{1}{10\\sqrt{2\\pi}} \\exp\\left(-\\frac{(x-3)^2}{8}\\right)$,\n",
    "\n",
    "\n",
    "1. Plot the distribution function $f(x)$; (1 pts)\n",
    "2. Calculate the mean and variance of the given mixture of two Gaussians; (2 pts)\n",
    "0. Sample 1000000 values from the given mixture of two Gaussians; (3 pts)\n",
    "0. Plot a distribution histgram of your sampled values. (3 pts)\n",
    "0. Show the mean and variance of your sampled values. (1 pts)\n",
    "\n",
    "Total of 10 points"
   ]
  },
  {
   "cell_type": "markdown",
   "metadata": {},
   "source": [
    "### Soulution:\n",
    "#### 1."
   ]
  },
  {
   "cell_type": "code",
   "execution_count": null,
   "metadata": {
    "scrolled": true
   },
   "outputs": [],
   "source": [
    "\n"
   ]
  },
  {
   "cell_type": "markdown",
   "metadata": {},
   "source": [
    "#### 2.\n",
    "\n"
   ]
  },
  {
   "cell_type": "markdown",
   "metadata": {},
   "source": [
    "#### 3."
   ]
  },
  {
   "cell_type": "code",
   "execution_count": null,
   "metadata": {},
   "outputs": [],
   "source": []
  },
  {
   "cell_type": "markdown",
   "metadata": {},
   "source": [
    "#### 4."
   ]
  },
  {
   "cell_type": "code",
   "execution_count": null,
   "metadata": {},
   "outputs": [],
   "source": []
  },
  {
   "cell_type": "markdown",
   "metadata": {},
   "source": [
    "#### 5. "
   ]
  },
  {
   "cell_type": "code",
   "execution_count": null,
   "metadata": {},
   "outputs": [],
   "source": [
    "\n"
   ]
  },
  {
   "cell_type": "markdown",
   "metadata": {},
   "source": [
    "### Problem 2 [Monty Hall Problem](https://en.wikipedia.org/wiki/Monty_Hall_problem)\n",
    "\n",
    "#### \"Suppose you're on a game show, and you're given the choice of three doors: Behind one door is a car; behind the others, goats. You pick a door, say No. 1, and the host, who knows what's behind the other doors, opens another door, say No. 3, which has a goat. He then says to you, 'Do you want to pick door No. 2?' Is it to your advantage to take the switch?\" \n",
    "Note that we assume the host knows which door the car is behind and will not reveal the location of the car until after the contestant has had the opportunity to switch doors. Say you get reward = 1 for winning the car and reward = 0 otherwise, run this game 1000 times and\n",
    "1. Plot your average rewards at each time if you always switch; (5 pts)\n",
    "2. Plot your average rewards at each time if you never switch. (5 pts)\n",
    "\n",
    "\n",
    "Total of 10 points"
   ]
  },
  {
   "cell_type": "markdown",
   "metadata": {},
   "source": [
    "#### 1."
   ]
  },
  {
   "cell_type": "code",
   "execution_count": null,
   "metadata": {},
   "outputs": [],
   "source": []
  },
  {
   "cell_type": "markdown",
   "metadata": {},
   "source": [
    "#### 2."
   ]
  },
  {
   "cell_type": "code",
   "execution_count": null,
   "metadata": {},
   "outputs": [],
   "source": []
  }
 ],
 "metadata": {
  "anaconda-cloud": {},
  "kernelspec": {
   "display_name": "Python 3",
   "language": "python",
   "name": "python3"
  },
  "language_info": {
   "codemirror_mode": {
    "name": "ipython",
    "version": 3
   },
   "file_extension": ".py",
   "mimetype": "text/x-python",
   "name": "python",
   "nbconvert_exporter": "python",
   "pygments_lexer": "ipython3",
   "version": "3.8.5"
  }
 },
 "nbformat": 4,
 "nbformat_minor": 4
}
