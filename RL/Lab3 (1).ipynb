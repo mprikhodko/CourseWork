{
 "cells": [
  {
   "cell_type": "markdown",
   "metadata": {},
   "source": [
    "<hr/>\n",
    "\n",
    "# Foundations of Reinforcement Learning\n",
    "\n",
    "<hr/>"
   ]
  },
  {
   "cell_type": "markdown",
   "metadata": {},
   "source": [
    "<h1><font color=\"darkblue\">Lab 3: Dynamic Programming  </font></h1>\n",
    "\n",
    "\n",
    "\n",
    "\n",
    "\n",
    "##  Content\n",
    "1. Gym environment\n",
    "2. Dynamic Programming\n",
    "\n"
   ]
  },
  {
   "cell_type": "markdown",
   "metadata": {},
   "source": [
    "## 1. Gym library\n",
    "\n",
    "\n",
    "Gym is a toolkit for developing and comparing reinforcement learning algorithms, (see https://gym.openai.com/). A bunch of [classic RL problems](https://gym.openai.com/envs/#classic_control) could be easily simulated. In particular, Gym environment provid all necessary variables (e.g. current state, next state and step reward) and the only thing remains you to do is choosing actions base on different algorithums, (please read https://gym.openai.com/docs/ for more details).\n",
    "\n",
    "Run the following code to install:"
   ]
  },
  {
   "cell_type": "code",
   "execution_count": null,
   "metadata": {},
   "outputs": [],
   "source": [
    "!pip install gym"
   ]
  },
  {
   "cell_type": "code",
   "execution_count": 3,
   "metadata": {},
   "outputs": [
    {
     "name": "stdout",
     "output_type": "stream",
     "text": [
      "Populating the interactive namespace from numpy and matplotlib\n"
     ]
    }
   ],
   "source": [
    "%pylab inline\n",
    "import numpy as np\n",
    "import matplotlib.pyplot as plt\n",
    "import gym\n",
    "from IPython import display\n",
    "import random"
   ]
  },
  {
   "cell_type": "markdown",
   "metadata": {},
   "source": [
    "## 2. Dynamic Programming (GridWorld)"
   ]
  },
  {
   "cell_type": "markdown",
   "metadata": {},
   "source": [
    "### 2.1 Intro to GridWorld\n",
    "\n",
    "In this section, we apply policy iteration and value iteration for gridworld problem. \n",
    "\n",
    "The grid is shown below, the black tiles represents wall/obstacles, the white tiles are the non-terminal tiles, and the tile with \"s\" is the starting point of every episoid, the tile with \"5\" is the goal point.\n",
    "\n",
    "The agent start at \"s\" tile. At every step, the agent can choose one of the four actions:\"up\",\"right\",\"down\",\"left\", moving to the next tile in that direction. \n",
    "\n",
    "$\\cdot$ If the next tile is wall/obstacle, the agent does not move and receive -1 reward;\n",
    "\n",
    "$\\cdot$ If the next tile is a non-terminal tile, the agent move to that tile and receive 0 reward;\n",
    "\n",
    "$\\cdot$ If the next tile is the goal tile, the episoid is finished and the agent receive 5 reward."
   ]
  },
  {
   "cell_type": "code",
   "execution_count": 18,
   "metadata": {},
   "outputs": [
    {
     "data": {
      "image/png": "[encoded data removed]",
      "text/plain": [
       "<Figure size 360x360 with 1 Axes>"
      ]
     },
     "metadata": {},
     "output_type": "display_data"
    }
   ],
   "source": [
    "from gridworld import GridWorld\n",
    "\n",
    "gw = GridWorld()\n",
    "gw.plot_grid(plot_title='The grid')"
   ]
  },
  {
   "cell_type": "markdown",
   "metadata": {},
   "source": [
    "### 2.1.1 States and state values\n",
    "Excluding the wall around the grid, there are 56 tiles (INCLUDING obstacles inside the grid), and they correspond to 56 states (obstacles and goal are non-reachable states).\n",
    "\n",
    "We use numbers from 0 to 55 to represent these states (see gridworld.py for the coversion between integer and tile position). The correspondance are as shown below:"
   ]
  },
  {
   "cell_type": "code",
   "execution_count": 19,
   "metadata": {},
   "outputs": [
    {
     "data": {
      "image/png": "[encoded data removed]",
      "text/plain": [
       "<Figure size 360x360 with 1 Axes>"
      ]
     },
     "metadata": {},
     "output_type": "display_data"
    }
   ],
   "source": [
    "gw.plot_state_values(np.arange(56),value_format=\"{:d}\",plot_title='Each states as an integer')"
   ]
  },
  {
   "cell_type": "markdown",
   "metadata": {},
   "source": [
    "### 2.1.2 Take actions\n",
    "Use GridWorld.step(action) to take an action, and use GridWorld.reset() to restart an episoid\n",
    "\n",
    "action is an integer from 0 to 3\n",
    "\n",
    "0: \"Up\"; 1: \"Right\"; 2: \"Down\"; 3: \"Left\" "
   ]
  },
  {
   "cell_type": "code",
   "execution_count": 20,
   "metadata": {},
   "outputs": [
    {
     "name": "stdout",
     "output_type": "stream",
     "text": [
      "The current state is 9, which corresponds to tile position (1, 1)\n",
      "\n",
      "Take action 0, get reward 0.0, move to state 1\n",
      "Now the current state is 1, which corresponds to tile position (0, 1)\n",
      "\n",
      "Reset episoid\n",
      "Now the current state is 9, which corresponds to tile position (1, 1)\n"
     ]
    }
   ],
   "source": [
    "gw.reset()\n",
    "\n",
    "current_state = gw.get_current_state()\n",
    "tile_pos = gw.int_to_state(current_state)\n",
    "\n",
    "print(\"The current state is {}, which corresponds to tile position {}\\n\".format(current_state,tile_pos))\n",
    "\n",
    "action = np.random.randint(4)\n",
    "reward, terminated, next_state = gw.step(action)\n",
    "tile_pos = gw.int_to_state(next_state)\n",
    "\n",
    "print(\"Take action {}, get reward {}, move to state {}\".format(action,reward,next_state))\n",
    "print(\"Now the current state is {}, which corresponds to tile position {}\\n\".format(next_state,tile_pos))\n",
    "\n",
    "gw.reset()\n",
    "current_state = gw.get_current_state()\n",
    "tile_pos = gw.int_to_state(current_state)\n",
    "print(\"Reset episoid\")\n",
    "print(\"Now the current state is {}, which corresponds to tile position {}\".format(current_state,tile_pos))\n",
    "\n"
   ]
  },
  {
   "cell_type": "markdown",
   "metadata": {},
   "source": [
    "### 2.1.3 Plot Deterministic Policies\n",
    "A deterministic policy is a function from state to action, which can be represented by a (56,)-numpy array whose entries are all integers in (0-3)"
   ]
  },
  {
   "cell_type": "code",
   "execution_count": 21,
   "metadata": {},
   "outputs": [
    {
     "data": {
      "image/png": "[encoded data removed]",
      "text/plain": [
       "<Figure size 360x360 with 1 Axes>"
      ]
     },
     "metadata": {},
     "output_type": "display_data"
    }
   ],
   "source": [
    "gw.plot_policy(np.random.randint(4,size=(56,)),plot_title='A deterministic policy')"
   ]
  },
  {
   "cell_type": "markdown",
   "metadata": {},
   "source": [
    "### 2.2 Policy Evaluation\n",
    "\n",
    "Recall that the value function $v_\\pi(s)$ of a policy $\\pi(s)$ can be iteratively computed via Policy Evaluation (See Sutton&Barto Section 4.1), the iteration is given by $$v_{k+1}(s)=\\sum_{a}\\pi(a|s)\\sum_{s',r}p(s',r|s,a)[r+\\gamma v_{k}(s)]\\,,$$ which can be written as $$\n",
    "    v_{k+1}(s)=\\sum_{a}\\pi(a|s)\\left[\\mathbb{E}_\\pi[r|s,a]+\\sum_{s'}p(s'|s,a)v_k(s')\\right]\\,.\n",
    "$$\n",
    "If we write value function $v_{k+1},v_k$ as vectors, then we have\n",
    "$$\n",
    "    v_{k+1} = \\sum_{a}\\pi(a|s)\\left[R_\\pi(a)+P_\\pi(a)v_{k}\\right]\\,.\n",
    "$$\n",
    "where $R_\\pi(a)$ is the expected reward under action $a$ and  $P_\\pi(a)$ is the transition probability matrix under action $a$. \n",
    "\n",
    "With this we can find the value function $v_\\pi$ of random policy $\\pi$ when discount is 0.9, the code is shown below\n",
    "\n"
   ]
  },
  {
   "cell_type": "code",
   "execution_count": null,
   "metadata": {},
   "outputs": [],
   "source": [
    "pi_a = [0.25,0.25,0.25,0.25] # action proability of random action (for any state)\n",
    "\n",
    "gamma = 0.9\n",
    "max_it = 1000\n",
    "tol = 1e-5\n",
    "v = np.zeros((56,))\n",
    "for i in range(max_it):\n",
    "    value_temp = np.zeros((56,))\n",
    "    for action in range(4):\n",
    "        reward, tran_prob = gw.transition(action)\n",
    "        value_temp = value_temp + pi_a[action]*(reward+gamma* np.matmul(tran_prob,v))\n",
    "    if np.linalg.norm(value_temp-v)<tol:\n",
    "        break\n",
    "    else:\n",
    "        v = value_temp\n",
    "        \n",
    "v_final = v\n",
    "\n",
    "gw.plot_state_values(v,value_format=\"{:.1f}\",plot_title='Value function of Random Policy')\n",
    "\n",
    "# compute and plot the greedy policy of this value function (Hint: first compute Q from v)\n",
    "\n",
    "# write your code here\n"
   ]
  },
  {
   "cell_type": "markdown",
   "metadata": {},
   "source": [
    "### 2.3 Value Iteration\n",
    "\n",
    "Implement Value Iteration Algorithm (Sutton&Barto Section 4.4) to find the optimal policy of this gridworld, and plot its value function\n"
   ]
  },
  {
   "cell_type": "code",
   "execution_count": 23,
   "metadata": {},
   "outputs": [],
   "source": [
    "# Value Iteration Algorithm\n",
    "\n",
    "def value_iteration(gridworld, gamma):\n",
    "# input:  gridworld, (GridWorld class) gridworld class describing the environment\n",
    "#         gamma,     (float 0-1) discount of the return\n",
    "# output: optim value,  (1d numpy array, float) optimal value function \n",
    "#         optim_policy, (1d numpy array, int {0,1,2,3}) optimal policy\n",
    "\n",
    "#write your code here\n",
    "\n",
    "\n",
    "    return optim_value, optim_policy"
   ]
  },
  {
   "cell_type": "code",
   "execution_count": null,
   "metadata": {},
   "outputs": [],
   "source": [
    "# check your result here\n",
    "optim_value, optim_policy = value_iteration(gw, 0.9)\n",
    "gw.plot_state_values(optim_value,value_format=\"{:.1f}\",plot_title='Value function of Random Policy')\n",
    "gw.plot_policy(optim_policy,plot_title='Greedy Policy of Random Policy')"
   ]
  }
 ],
 "metadata": {
  "kernelspec": {
   "display_name": "Python 3",
   "language": "python",
   "name": "python3"
  },
  "language_info": {
   "codemirror_mode": {
    "name": "ipython",
    "version": 3
   },
   "file_extension": ".py",
   "mimetype": "text/x-python",
   "name": "python",
   "nbconvert_exporter": "python",
   "pygments_lexer": "ipython3",
   "version": "3.8.5"
  }
 },
 "nbformat": 4,
 "nbformat_minor": 4
}
